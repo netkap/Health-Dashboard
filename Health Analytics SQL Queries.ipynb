{
  "cells": [
    {
      "cell_type": "code",
      "execution_count": null,
      "metadata": {
        "id": "NJ-vVDB_3F2y"
      },
      "outputs": [],
      "source": [
        "# -- 1. Count & Pct of F vs M that have OCD & -- Average Obsession Score by Gender\n",
        "with data as (\n",
        "SELECT\n",
        "Gender,\n",
        "count(`Patient ID`) as patient_count,\n",
        "round(avg(`Y-BOCS Score (Obsessions)`),2) as avg_obs_score\n",
        "\n",
        "FROM ocd_data.ocd_patient_dataset\n",
        "Group By 1\n",
        "Order by 2\n",
        ")\n",
        "\n",
        "select\n",
        "\tsum(case when Gender = 'Female' then patient_count else 0 end) as count_female,\n",
        "\tsum(case when Gender = 'Male' then patient_count else 0 end) as count_male,\n",
        "\n",
        "\tround(sum(case when Gender = 'Female' then patient_count else 0 end)/\n",
        "\t(sum(case when Gender = 'Female' then patient_count else 0 end)+sum(case when Gender = 'Male' then patient_count else 0 end)) *100,2)\n",
        "\t as pct_female,\n",
        "\n",
        "    round(sum(case when Gender = 'Male' then patient_count else 0 end)/\n",
        "\t(sum(case when Gender = 'Female' then patient_count else 0 end)+sum(case when Gender = 'Male' then patient_count else 0 end)) *100,2)\n",
        "\t as pct_male\n",
        "\n",
        "from data\n",
        ";\n",
        "\n",
        "# -- 2. Count of Patients by Ethnicity and their respective Average Obsession Score\n",
        "\n",
        "select\n",
        "\tEthnicity,\n",
        "\tcount(`Patient ID`) as patient_count,\n",
        "\tavg(`Y-BOCS Score (Obsessions)`) as obs_score\n",
        "From ocd_data.ocd_patient_dataset\n",
        "Group by 1\n",
        "Order by 2;\n",
        "\n",
        "# -- 3. Number of people diagnosed with OCD MoM\n",
        "\n",
        "# -- alter table ocd_data.ocd_patient_dataset\n",
        "# -- modify `OCD Diagnosis Date` date;\n",
        "select\n",
        "date_format(`OCD Diagnosis Date`, '%Y-%m-01 00:00:00') as month,\n",
        "-- `OCD Diagnosis Date`\n",
        "count(`Patient ID`) patient_count\n",
        "from ocd_data.ocd_patient_dataset\n",
        "group by 1\n",
        "Order by 1\n",
        ";\n",
        "\n",
        "# -- 4. What is the most common Obsession Type (Count) & it's respective Average Obsession Score\n",
        "\n",
        "Select\n",
        "`Obsession Type`,\n",
        "count(`Patient ID`) as patient_count,\n",
        "round(avg(`Y-BOCS Score (Obsessions)`),2) as obs_score\n",
        "from ocd_data.ocd_patient_dataset\n",
        "group by 1\n",
        "Order by 2\n",
        ";\n",
        "\n",
        "# -- 5. What is the most common Compulsion type (Count) & it's respective Average Obsession Score\n",
        "\n",
        "Select\n",
        "`Compulsion Type`,\n",
        "count(`Patient ID`) as patient_count,\n",
        "round(avg(`Y-BOCS Score (Obsessions)`),2) as obs_score\n",
        "from ocd_data.ocd_patient_dataset\n",
        "group by 1\n",
        "Order by 2\n",
        ";"
      ]
    }
  ],
  "metadata": {
    "colab": {
      "provenance": []
    },
    "kernelspec": {
      "display_name": "Python 3",
      "name": "python3"
    },
    "language_info": {
      "name": "python"
    }
  },
  "nbformat": 4,
  "nbformat_minor": 0
}
